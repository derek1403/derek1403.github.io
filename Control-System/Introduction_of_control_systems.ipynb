{
  "cells": [
    {
      "cell_type": "markdown",
      "metadata": {
        "id": "FYKDcMrvryhu"
      },
      "source": [
        "# 介紹控制系統\n",
        "\n",
        "### 控制系統可以簡單分為兩類:\n",
        "1. 開迴路控制系統(Open-loop control system) :\n",
        "  \n",
        "    任何變量在一開始就要想到並設定，不會自動調整輸出到目標，也就是干擾排除(disturbance rejection)能力弱。\n",
        "\n",
        "![](pic/ch1/001-001_openloop_control_system.png)\n",
        "\n",
        "```{note}\n",
        "通常一個方框會代表裡面有很多複雜子系統。\n",
        "```\n",
        "\n",
        "2. 閉迴路控制系統(Close-loop control system) :\n",
        "\n",
        "    相較於開迴路控制系統多拉了回授的給輸入端，使輸出可以自動調整到目標，也就是干擾排除能力強。\n",
        "\n",
        "![](pic/ch1/001-002_closeloop_control_system.png)\n",
        "\n",
        "  * 受控場(Plant):可以是整個實體，也可以是一個部件。例如:冷氣機(熱交換機、馬達、壓縮機)、機器人(桿臂、關節、馬達)。\n",
        "\n",
        "  * 感測器(Sensor):將輸出端的物理量回授給輸入端的電子信號，使`控制器`可以比較`輸入Reference input`與`回授訊號Feedback signal`的差異得出`error`。\n",
        "\n",
        "  * 控制器(Controller):根據`輸入與回授訊號的差異error`給出`驅動訊號v`給`受控場`。\n",
        "\n",
        "\n",
        "\n"
      ]
    },
    {
      "cell_type": "markdown",
      "source": [
        "### 定義變數\n",
        "\n",
        "這是一個簡化後的閉迴路控制系統，$G$是結合控制器與受控場的方框，$H$是將輸出端回授給輸入端的方框。\n",
        "\n",
        "$$\n",
        "\\begin{align*}\n",
        "e&=r-b \\tag{eq.1.1}\\\\\n",
        "y&=Ge \\\\\n",
        "b&=Hy \\\\\n",
        "\\end{align*}\n",
        "$$\n",
        "\n",
        "![](pic/ch1/001-003_one_feedback_loop_system.png)\n",
        "\n",
        "1. Input-Output relationship ($M$) :\n",
        "\n",
        "    $$\n",
        "    M \\overset{def}{=} \\frac{y}{r} =\\frac{G}{1+GH} \\tag{eq.1.2}\n",
        "    $$\n",
        "\n",
        "    說明輸入和輸出的縮放關係，如果沒有回饋($H=0$)則$M \\overset{def}{=} \\frac{y}{r}=G $，如果有回饋則$M$會隨著$G$和$H$的頻率而變化。另外可以注意到有無回授的系統特性之一的`零點zeros`從不存在(或者說是無限遠處)變成$GH=-1$處。\n",
        "      \n",
        "\n",
        "2. Sensitivity ($S^{M}_{G}$) :\n",
        "\n",
        "    $$\n",
        "    S^{M}_{G} \\overset{def}{=} \\frac{\\frac{\\partial M}{M}}{\\frac{\\partial G}{G}} =\\frac{\\partial M}{\\partial G} \\frac{G}{M} = \\frac{1}{1+GH} \\tag{eq.1.3}\n",
        "    $$\n",
        "\n",
        "    說明該系統有多麼敏感，從定義可以得知是`輸入輸出縮放關變化的百分比`除以`系統性能變化的百分比`。改變一個單位的外在條件($\\Delta T \\sim 1^\\circ C$)，系統的性能可能改變很多($10s \\rightarrow 15s$)，所以我們應該會希望系統應該要非常不敏感。\n",
        "\n",
        "    ```{note}\n",
        "    但是在我後面要提到的大氣控制就不一定會要求敏感度了，或許反而可以變成測量模式的工具。\n",
        "    ```\n",
        "\n",
        "    要讓系統的敏感度降低透過$eq.1.3$看到可以增加$GH$\n",
        "\n",
        "3. 抗干擾能力($\\frac{y}{disturbance}$)、抗雜訊能力($\\frac{y}{noise}$) :\n",
        "\n",
        "    若抗干擾能力、抗雜訊能力趨近無限大，則表示系統很能抗干擾能力、抗雜訊能力。\n",
        "  \n",
        "    假設看閉迴路控制系統的圖片並將外部干擾移至控制器與受控場之間，我們可以得到:\n",
        "\n",
        "    $$\n",
        "    \\begin{align*}\n",
        "    \\frac{y}{d}&=\\frac{P}{1+HCP}   \\tag{eq.1.4}\\\\\n",
        "    \\frac{y}{n}&=\\frac{HCP}{1+HCP} \\\\\n",
        "    \\end{align*}\n",
        "    $$\n",
        "\n",
        "    ```{note}\n",
        "    得到eq1.4的方式可以想像輸出到輸入之間的關係，會直接經過的放在分子、會回授的放分母。\n",
        "    ```\n",
        "\n",
        "\n"
      ],
      "metadata": {
        "id": "Lp3iLefIikAO"
      }
    },
    {
      "cell_type": "markdown",
      "source": [
        "### 控制系統的主要目的有4個 :\n",
        "\n",
        "* 改變系統的反應速度\n",
        "\n",
        "* 降低外部干擾的影響\n",
        "\n",
        "* 改變系統的穩定性\n",
        "\n",
        "\n",
        "* 降低系統性能對於特定參數的敏感度\n",
        "\n",
        "\n",
        "具體怎麼改變就是後面章節再談的事情了。\n"
      ],
      "metadata": {
        "id": "Pjm7cpVQxt7-"
      }
    },
    {
      "cell_type": "markdown",
      "source": [
        "### 小補充\n",
        "\n",
        "![](pic/ch1/001-004_two_feedback_loop_system.png)\n",
        "\n",
        "若是閉迴路控制系統外面還有閉迴路控制系統包著，變數可以計算得出 :\n",
        "\n",
        "$$\n",
        "M \\overset{def}{=} \\frac{y}{r} =\\frac{G}{1+GH+GF} \\tag{eq.1.5}\n",
        "$$\n",
        "\n",
        "\n",
        "\n",
        "\n",
        "> 畫方塊圖可以是用 [Visual paradigm](https://online.visual-paradigm.com/tw/)\n",
        "\n",
        "\n",
        "\n",
        "\n",
        "\n",
        "\n"
      ],
      "metadata": {
        "id": "ChGqsoEPxuMn"
      }
    }
  ],
  "metadata": {
    "kernelspec": {
      "display_name": "Python 3",
      "language": "python",
      "name": "python3"
    },
    "language_info": {
      "codemirror_mode": {
        "name": "ipython",
        "version": 3
      },
      "file_extension": ".py",
      "mimetype": "text/x-python",
      "name": "python",
      "nbconvert_exporter": "python",
      "pygments_lexer": "ipython3",
      "version": "3.8.0"
    },
    "colab": {
      "provenance": []
    }
  },
  "nbformat": 4,
  "nbformat_minor": 0
}